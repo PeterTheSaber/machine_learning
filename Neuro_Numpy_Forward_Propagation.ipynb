{
  "nbformat": 4,
  "nbformat_minor": 0,
  "metadata": {
    "colab": {
      "provenance": [],
      "authorship_tag": "ABX9TyPQOaT1TbPtwGzQRTWrFxJM"
    },
    "kernelspec": {
      "name": "python3",
      "display_name": "Python 3"
    },
    "language_info": {
      "name": "python"
    }
  },
  "cells": [
    {
      "cell_type": "code",
      "execution_count": 1,
      "metadata": {
        "id": "_rTVYLA0Ey57"
      },
      "outputs": [],
      "source": [
        "import numpy as np\n",
        "import pandas as pd\n"
      ]
    },
    {
      "cell_type": "code",
      "source": [
        "def sigmoid(x, Derivative=False):\n",
        "  if Derivative == False:\n",
        "    return x*(1-x)\n",
        "  return 1/(1+np.exp(-x))\n"
      ],
      "metadata": {
        "id": "6YuVtmEgGyA3"
      },
      "execution_count": null,
      "outputs": []
    },
    {
      "cell_type": "code",
      "source": [
        "np.set_printoptions(precision=2)\n",
        "x = np.array([[0,1,1],\n",
        "              [0,0,1],\n",
        "              [1,1,1],\n",
        "              [1,0,0]])\n",
        "y = ([[1],\n",
        "      [0],\n",
        "      [1],\n",
        "      [0]])\n",
        "\n",
        "np.random.seed(1)\n",
        "\n",
        "#output vectors for neurons(synapses)\n",
        "\n",
        "a1 = 2*np.random.random((3,4))-1\n",
        "print(a1)\n",
        "a2 = 2*np.random.random((4,1))-1\n",
        "print(a2)\n"
      ],
      "metadata": {
        "colab": {
          "base_uri": "https://localhost:8080/"
        },
        "id": "XwTF482AHe56",
        "outputId": "3650bdc8-8945-4218-e5cd-993171053b99"
      },
      "execution_count": 2,
      "outputs": [
        {
          "output_type": "stream",
          "name": "stdout",
          "text": [
            "[[-0.17  0.44 -1.   -0.4 ]\n",
            " [-0.71 -0.82 -0.63 -0.31]\n",
            " [-0.21  0.08 -0.16  0.37]]\n",
            "[[-0.59]\n",
            " [ 0.76]\n",
            " [-0.95]\n",
            " [ 0.34]]\n"
          ]
        }
      ]
    },
    {
      "cell_type": "code",
      "source": [],
      "metadata": {
        "id": "3k-o-89pIz99"
      },
      "execution_count": 1,
      "outputs": []
    },
    {
      "cell_type": "code",
      "source": [],
      "metadata": {
        "id": "c6upimW-StEw"
      },
      "execution_count": null,
      "outputs": []
    }
  ]
}