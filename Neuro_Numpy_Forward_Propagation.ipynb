{
  "nbformat": 4,
  "nbformat_minor": 0,
  "metadata": {
    "colab": {
      "provenance": [],
      "authorship_tag": "ABX9TyOcgq5GGHwdQK+yOT8hOicv"
    },
    "kernelspec": {
      "name": "python3",
      "display_name": "Python 3"
    },
    "language_info": {
      "name": "python"
    }
  },
  "cells": [
    {
      "cell_type": "code",
      "execution_count": 1,
      "metadata": {
        "id": "_rTVYLA0Ey57"
      },
      "outputs": [],
      "source": [
        "import numpy as np\n",
        "import pandas as pd\n"
      ]
    },
    {
      "cell_type": "code",
      "source": [
        "def sigmoid(x, Derivative=False):\n",
        "  if Derivative == True:\n",
        "    return x*(1-x)\n",
        "  return 1/(1+np.exp(-x))\n"
      ],
      "metadata": {
        "id": "6YuVtmEgGyA3"
      },
      "execution_count": 13,
      "outputs": []
    },
    {
      "cell_type": "code",
      "source": [
        "np.set_printoptions(precision=2)\n",
        "x = np.array([[0,0,1],\n",
        "              [0,1,1],\n",
        "              [1,0,1],\n",
        "              [1,1,1]])\n",
        "y = ([[0],\n",
        "      [1],\n",
        "      [0],\n",
        "      [1]])\n",
        "\n",
        "np.random.seed(1)\n",
        "\n",
        "#output vectors for neurons(synapses)\n",
        "\n",
        "#a1 = 2*np.random.random((3,4))-1\n",
        "#print(a1)\n",
        "#a2 = 2*np.random.random((4,1))-1\n",
        "#print(a2)\n",
        "a0 = 2*np.random.random((3,1))-1\n",
        "\n",
        "for i in range(10000):\n",
        "  l0 = x\n",
        "  l1 = sigmoid(np.dot(l0,a0))\n",
        "  l1error = y - l1\n",
        "  l1delta = l1error * sigmoid(x=l1, Derivative=True)\n",
        "  a0+= np.dot(l0.T, l1delta)\n",
        "  if i%2000 == 0:\n",
        "    print(l1error)\n",
        "print(a0)\n",
        "print(l1)"
      ],
      "metadata": {
        "colab": {
          "base_uri": "https://localhost:8080/"
        },
        "id": "XwTF482AHe56",
        "outputId": "743c2c4d-ddcc-45e9-9efe-fc6987ab1112"
      },
      "execution_count": 15,
      "outputs": [
        {
          "output_type": "stream",
          "name": "stdout",
          "text": [
            "[[-0.27]\n",
            " [ 0.64]\n",
            " [-0.24]\n",
            " [ 0.67]]\n",
            "[[-0.02]\n",
            " [ 0.01]\n",
            " [-0.02]\n",
            " [ 0.02]]\n",
            "[[-0.02]\n",
            " [ 0.01]\n",
            " [-0.01]\n",
            " [ 0.01]]\n",
            "[[-0.01]\n",
            " [ 0.01]\n",
            " [-0.01]\n",
            " [ 0.01]]\n",
            "[[-0.01]\n",
            " [ 0.01]\n",
            " [-0.01]\n",
            " [ 0.01]]\n",
            "[[-0.21]\n",
            " [ 9.67]\n",
            " [-4.63]]\n",
            "[[0.01]\n",
            " [0.99]\n",
            " [0.01]\n",
            " [0.99]]\n"
          ]
        }
      ]
    },
    {
      "cell_type": "code",
      "source": [],
      "metadata": {
        "id": "3k-o-89pIz99"
      },
      "execution_count": 1,
      "outputs": []
    },
    {
      "cell_type": "code",
      "source": [],
      "metadata": {
        "id": "c6upimW-StEw"
      },
      "execution_count": null,
      "outputs": []
    }
  ]
}