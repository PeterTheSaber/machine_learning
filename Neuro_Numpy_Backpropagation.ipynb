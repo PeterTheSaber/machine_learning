{
  "nbformat": 4,
  "nbformat_minor": 0,
  "metadata": {
    "colab": {
      "provenance": [],
      "authorship_tag": "ABX9TyN8epc/dHOck1EEQHegaVce",
      "include_colab_link": true
    },
    "kernelspec": {
      "name": "python3",
      "display_name": "Python 3"
    },
    "language_info": {
      "name": "python"
    }
  },
  "cells": [
    {
      "cell_type": "markdown",
      "metadata": {
        "id": "view-in-github",
        "colab_type": "text"
      },
      "source": [
        "<a href=\"https://colab.research.google.com/github/PeterTheSaber/machine_learning/blob/main/Neuro_Numpy_Backpropagation.ipynb\" target=\"_parent\"><img src=\"https://colab.research.google.com/assets/colab-badge.svg\" alt=\"Open In Colab\"/></a>"
      ]
    },
    {
      "cell_type": "code",
      "execution_count": 1,
      "metadata": {
        "id": "_rTVYLA0Ey57"
      },
      "outputs": [],
      "source": [
        "import numpy as np\n",
        "import pandas as pd\n"
      ]
    },
    {
      "cell_type": "code",
      "source": [
        "def sigmoid(x, Derivative=False):\n",
        "  if Derivative == True:\n",
        "    return x*(1-x)\n",
        "  return 1/(1+np.exp(-x))\n"
      ],
      "metadata": {
        "id": "6YuVtmEgGyA3"
      },
      "execution_count": 2,
      "outputs": []
    },
    {
      "cell_type": "code",
      "source": [
        "np.set_printoptions(precision=5)\n",
        "x = np.array([[0,0,1],\n",
        "              [0,1,1],\n",
        "              [1,0,1],\n",
        "              [1,1,1]])\n",
        "y = ([[0],\n",
        "      [1],\n",
        "      [1],\n",
        "      [0]])\n",
        "\n",
        "np.random.seed(1)\n",
        "\n",
        "#output vectors for neurons(synapses)\n",
        "#1-st weights\n",
        "a0 = 2*np.random.random((3,4))-1\n",
        "#2-nd weights\n",
        "a1 = 2*np.random.random((4,1))-1\n",
        "\n",
        "for i in range(50000):\n",
        "  l0 = x\n",
        "  l1 = sigmoid(np.dot(l0,a0))\n",
        "  l2 = sigmoid(np.dot(l1,a1))\n",
        "  l2error = y - l2\n",
        "  if i%2000 == 0:\n",
        "    print(np.mean(np.abs(l2error)))\n",
        "  l2delta = l2error * sigmoid(x=l2, Derivative=True)\n",
        "  l1error = l2delta.dot(a1.T)\n",
        "  l1delta = l1error * sigmoid(x=l1, Derivative=True)\n",
        "  a1+= np.dot(l1.T, l2delta)\n",
        "  a0+= np.dot(l0.T, l1delta)\n",
        "\n",
        ""
      ],
      "metadata": {
        "colab": {
          "base_uri": "https://localhost:8080/"
        },
        "id": "XwTF482AHe56",
        "outputId": "b4569d92-4ce7-4ee3-cfc2-f805a6fe4877"
      },
      "execution_count": 5,
      "outputs": [
        {
          "output_type": "stream",
          "name": "stdout",
          "text": [
            "0.4964100319027255\n",
            "0.024121949891468507\n",
            "0.014993830283221644\n",
            "0.011633855795037274\n",
            "0.009786192568908622\n",
            "0.008584525653247157\n",
            "0.007726214608089649\n",
            "0.007075190894176917\n",
            "0.006560284963014355\n",
            "0.0061402756317669015\n",
            "0.0057894598625078085\n",
            "0.005490887915629529\n",
            "0.005232879516571011\n",
            "0.0050070945186452085\n",
            "0.004807400652527721\n",
            "0.004629176776769985\n",
            "0.004468866819103301\n",
            "0.004323684474358438\n",
            "0.004191411997822936\n",
            "0.0040702596415193555\n",
            "0.0039587652802736475\n",
            "0.003855721334504097\n",
            "0.003760120640520951\n",
            "0.0036711157307564553\n",
            "0.003587987771726255\n"
          ]
        }
      ]
    },
    {
      "cell_type": "code",
      "source": [],
      "metadata": {
        "id": "3k-o-89pIz99"
      },
      "execution_count": 1,
      "outputs": []
    },
    {
      "cell_type": "code",
      "source": [],
      "metadata": {
        "id": "c6upimW-StEw"
      },
      "execution_count": null,
      "outputs": []
    }
  ]
}